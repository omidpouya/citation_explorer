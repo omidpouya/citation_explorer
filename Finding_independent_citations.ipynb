{
  "nbformat": 4,
  "nbformat_minor": 0,
  "metadata": {
    "colab": {
      "provenance": [],
      "toc_visible": true
    },
    "kernelspec": {
      "name": "python3",
      "display_name": "Python 3"
    }
  },
  "cells": [
    {
      "cell_type": "code",
      "metadata": {
        "id": "uhQ1Hb57Zd1X"
      },
      "source": [
        "import time\n",
        "from collections.abc import Iterable"
      ],
      "execution_count": 2,
      "outputs": []
    },
    {
      "cell_type": "code",
      "metadata": {
        "id": "RgNJF6zy-tAB"
      },
      "source": [
        "%%capture\n",
        "!pip3 install scholarly"
      ],
      "execution_count": 3,
      "outputs": []
    },
    {
      "cell_type": "code",
      "source": [
        "from scholarly import scholarly"
      ],
      "metadata": {
        "id": "UjLkU1CtgZbe"
      },
      "execution_count": 5,
      "outputs": []
    },
    {
      "cell_type": "code",
      "metadata": {
        "id": "sGQNnkB3iv9l"
      },
      "source": [
        "def flatten(l):\n",
        "    for el in l:\n",
        "        if isinstance(el, Iterable) and not isinstance(el, (str, bytes)):\n",
        "            yield from flatten(el)\n",
        "        else:\n",
        "            yield el"
      ],
      "execution_count": 6,
      "outputs": []
    },
    {
      "cell_type": "code",
      "metadata": {
        "id": "tKdsgxohEaKi"
      },
      "source": [
        "def count_citations(citing_authors_list):\n",
        "  num_dependent_citations = 0\n",
        "  num_independent_citations = 0\n",
        "  for citing_paper in citing_authors_list:\n",
        "    for author in citing_paper:\n",
        "      if author.rsplit(' ', 1)[-1] not in coathors_dict:\n",
        "        num_independent_citations+=1\n",
        "      else:\n",
        "        num_dependent_citations+=1\n",
        "  return num_independent_citations,num_dependent_citations"
      ],
      "execution_count": null,
      "outputs": []
    },
    {
      "cell_type": "code",
      "metadata": {
        "colab": {
          "base_uri": "https://localhost:8080/"
        },
        "id": "zbNdzR__CZqE",
        "outputId": "e6e4d051-d95f-43a9-b92c-5f4a3c8ed8fa"
      },
      "source": [
        "next(scholarly.search_author('Omid Ranjbar Pouya'))"
      ],
      "execution_count": 7,
      "outputs": [
        {
          "output_type": "execute_result",
          "data": {
            "text/plain": [
              "{'container_type': 'Author',\n",
              " 'filled': [],\n",
              " 'source': <AuthorSource.SEARCH_AUTHOR_SNIPPETS: 'SEARCH_AUTHOR_SNIPPETS'>,\n",
              " 'scholar_id': 'c75RJawAAAAJ',\n",
              " 'url_picture': 'https://scholar.google.com/citations?view_op=medium_photo&user=c75RJawAAAAJ',\n",
              " 'name': 'Omid Ranjbar Pouya',\n",
              " 'affiliation': 'PhD Researcher @ PlentyofFish',\n",
              " 'email_domain': '@myumanitoba.ca',\n",
              " 'interests': ['Machine Learning',\n",
              "  'Data Science',\n",
              "  'Statistical Analysis',\n",
              "  'Health Informatics'],\n",
              " 'citedby': 141}"
            ]
          },
          "metadata": {},
          "execution_count": 7
        }
      ]
    },
    {
      "cell_type": "code",
      "metadata": {
        "colab": {
          "base_uri": "https://localhost:8080/"
        },
        "id": "RKgBn5GmCpc8",
        "outputId": "79d0a4e3-ad89-4aa3-a850-28e6dd9d49aa"
      },
      "source": [
        "# Retrieve the author's data, fill-in, and print\n",
        "search_query = scholarly.search_author('Omid Ranjbar Pouya')\n",
        "profile = scholarly.fill(next(search_query))\n",
        "profile"
      ],
      "execution_count": 8,
      "outputs": [
        {
          "output_type": "execute_result",
          "data": {
            "text/plain": [
              "{'container_type': 'Author',\n",
              " 'filled': ['basics',\n",
              "  'indices',\n",
              "  'counts',\n",
              "  'coauthors',\n",
              "  'publications',\n",
              "  'public_access'],\n",
              " 'source': <AuthorSource.SEARCH_AUTHOR_SNIPPETS: 'SEARCH_AUTHOR_SNIPPETS'>,\n",
              " 'scholar_id': 'c75RJawAAAAJ',\n",
              " 'url_picture': 'https://scholar.google.com/citations?view_op=medium_photo&user=c75RJawAAAAJ',\n",
              " 'name': 'Omid Ranjbar Pouya',\n",
              " 'affiliation': 'PhD Researcher @ PlentyofFish',\n",
              " 'email_domain': '@myumanitoba.ca',\n",
              " 'interests': ['Machine Learning',\n",
              "  'Data Science',\n",
              "  'Statistical Analysis',\n",
              "  'Health Informatics'],\n",
              " 'citedby': 141,\n",
              " 'homepage': 'https://www.researchgate.net/profile/Omid_Ranjbar_Pouya',\n",
              " 'citedby5y': 129,\n",
              " 'hindex': 5,\n",
              " 'hindex5y': 5,\n",
              " 'i10index': 5,\n",
              " 'i10index5y': 3,\n",
              " 'cites_per_year': {2015: 2,\n",
              "  2016: 4,\n",
              "  2017: 5,\n",
              "  2018: 9,\n",
              "  2019: 26,\n",
              "  2020: 25,\n",
              "  2021: 24,\n",
              "  2022: 26,\n",
              "  2023: 19},\n",
              " 'coauthors': [{'container_type': 'Author',\n",
              "   'filled': [],\n",
              "   'scholar_id': 'xWmh4wkAAAAJ',\n",
              "   'source': <AuthorSource.CO_AUTHORS_LIST: 'CO_AUTHORS_LIST'>,\n",
              "   'name': 'Zahra Moussavi',\n",
              "   'affiliation': 'Professor and Canada Research Chair in Biomedical Engineering, University of Manitoba'},\n",
              "  {'container_type': 'Author',\n",
              "   'filled': [],\n",
              "   'scholar_id': 'uDyW650AAAAJ',\n",
              "   'source': <AuthorSource.CO_AUTHORS_LIST: 'CO_AUTHORS_LIST'>,\n",
              "   'name': 'Debbie Kelly',\n",
              "   'affiliation': 'Professor of Psychology, University of Manitoba'},\n",
              "  {'container_type': 'Author',\n",
              "   'filled': [],\n",
              "   'scholar_id': 'n4YG-zkAAAAJ',\n",
              "   'source': <AuthorSource.CO_AUTHORS_LIST: 'CO_AUTHORS_LIST'>,\n",
              "   'name': 'Ahmad Byagowi',\n",
              "   'affiliation': 'University of Manitoba'},\n",
              "  {'container_type': 'Author',\n",
              "   'filled': [],\n",
              "   'scholar_id': 'VoDa4L4AAAAJ',\n",
              "   'source': <AuthorSource.CO_AUTHORS_LIST: 'CO_AUTHORS_LIST'>,\n",
              "   'name': 'Xikui Wang',\n",
              "   'affiliation': 'Professor, University of Manitoba'},\n",
              "  {'container_type': 'Author',\n",
              "   'filled': [],\n",
              "   'scholar_id': 'gMsC1kMAAAAJ',\n",
              "   'source': <AuthorSource.CO_AUTHORS_LIST: 'CO_AUTHORS_LIST'>,\n",
              "   'name': 'Abdelbaset (Abed) Suleiman , PhD',\n",
              "   'affiliation': 'Data scientist'},\n",
              "  {'container_type': 'Author',\n",
              "   'filled': [],\n",
              "   'scholar_id': 'gyTiHZcAAAAJ',\n",
              "   'source': <AuthorSource.CO_AUTHORS_LIST: 'CO_AUTHORS_LIST'>,\n",
              "   'name': 'Behzad Mansouri MD PhD FRCPC',\n",
              "   'affiliation': 'President, Neuroptek - Future Vision Care Solutions'},\n",
              "  {'container_type': 'Author',\n",
              "   'filled': [],\n",
              "   'scholar_id': 'ATqITHQAAAAJ',\n",
              "   'source': <AuthorSource.CO_AUTHORS_LIST: 'CO_AUTHORS_LIST'>,\n",
              "   'name': 'Professor Paul Fitzgerald',\n",
              "   'affiliation': 'Australian National University'},\n",
              "  {'container_type': 'Author',\n",
              "   'filled': [],\n",
              "   'scholar_id': '8-Ljt4gAAAAJ',\n",
              "   'source': <AuthorSource.CO_AUTHORS_LIST: 'CO_AUTHORS_LIST'>,\n",
              "   'name': 'Jerome Maller',\n",
              "   'affiliation': 'Adjunct A/Prof (Monash University and Alfred), Adjunct A/Prof (ANU)'},\n",
              "  {'container_type': 'Author',\n",
              "   'filled': [],\n",
              "   'scholar_id': 'gYz9SY0AAAAJ',\n",
              "   'source': <AuthorSource.CO_AUTHORS_LIST: 'CO_AUTHORS_LIST'>,\n",
              "   'name': 'Caroline Gurvich',\n",
              "   'affiliation': 'Monash University'},\n",
              "  {'container_type': 'Author',\n",
              "   'filled': [],\n",
              "   'scholar_id': '4KTcerQAAAAJ',\n",
              "   'source': <AuthorSource.CO_AUTHORS_LIST: 'CO_AUTHORS_LIST'>,\n",
              "   'name': 'Jayashri Kulkarni',\n",
              "   'affiliation': 'Professor of Psychiatry'}],\n",
              " 'publications': [{'container_type': 'Publication',\n",
              "   'source': <PublicationSource.AUTHOR_PUBLICATION_ENTRY: 'AUTHOR_PUBLICATION_ENTRY'>,\n",
              "   'bib': {'title': 'Orientation in virtual reality does not fully measure up to the real-world',\n",
              "    'pub_year': '2017',\n",
              "    'citation': 'Scientific reports 7 (1), 18109, 2017'},\n",
              "   'filled': False,\n",
              "   'author_pub_id': 'c75RJawAAAAJ:_FxGoFyzp5QC',\n",
              "   'num_citations': 54,\n",
              "   'citedby_url': 'https://scholar.google.com/scholar?oi=bibs&hl=en&cites=7655471678823541463',\n",
              "   'cites_id': ['7655471678823541463']},\n",
              "  {'container_type': 'Publication',\n",
              "   'source': <PublicationSource.AUTHOR_PUBLICATION_ENTRY: 'AUTHOR_PUBLICATION_ENTRY'>,\n",
              "   'bib': {'title': 'A pilot randomised double-blind study of the tolerability and efficacy of repetitive transcranial magnetic stimulation on persistent post-concussion syndrome',\n",
              "    'pub_year': '2019',\n",
              "    'citation': 'Scientific reports 9 (1), 5498, 2019'},\n",
              "   'filled': False,\n",
              "   'author_pub_id': 'c75RJawAAAAJ:UebtZRa9Y70C',\n",
              "   'num_citations': 25,\n",
              "   'citedby_url': 'https://scholar.google.com/scholar?oi=bibs&hl=en&cites=3074375321882387441',\n",
              "   'cites_id': ['3074375321882387441']},\n",
              "  {'container_type': 'Publication',\n",
              "   'source': <PublicationSource.AUTHOR_PUBLICATION_ENTRY: 'AUTHOR_PUBLICATION_ENTRY'>,\n",
              "   'bib': {'title': 'Introducing a new age-and-cognition-sensitive measurement for assessing spatial orientation using a landmark-less virtual reality navigational task',\n",
              "    'pub_year': '2017',\n",
              "    'citation': 'Quarterly Journal of Experimental Psychology 70 (7), 1406-1419, 2017'},\n",
              "   'filled': False,\n",
              "   'author_pub_id': 'c75RJawAAAAJ:d1gkVwhDpl0C',\n",
              "   'num_citations': 25,\n",
              "   'citedby_url': 'https://scholar.google.com/scholar?oi=bibs&hl=en&cites=2590510930505905002',\n",
              "   'cites_id': ['2590510930505905002']},\n",
              "  {'container_type': 'Publication',\n",
              "   'source': <PublicationSource.AUTHOR_PUBLICATION_ENTRY: 'AUTHOR_PUBLICATION_ENTRY'>,\n",
              "   'bib': {'title': 'Tendency to overestimate the explicit time interval in relation to aging and cognitive decline',\n",
              "    'pub_year': '2015',\n",
              "    'citation': '2015 37th Annual International Conference of the IEEE Engineering in …, 2015'},\n",
              "   'filled': False,\n",
              "   'author_pub_id': 'c75RJawAAAAJ:eQOLeE2rZwMC',\n",
              "   'num_citations': 10,\n",
              "   'citedby_url': 'https://scholar.google.com/scholar?oi=bibs&hl=en&cites=5722102686932563183',\n",
              "   'cites_id': ['5722102686932563183']},\n",
              "  {'container_type': 'Publication',\n",
              "   'source': <PublicationSource.AUTHOR_PUBLICATION_ENTRY: 'AUTHOR_PUBLICATION_ENTRY'>,\n",
              "   'bib': {'title': 'Separating mental disorders using vestibular field potentials',\n",
              "    'pub_year': '2015',\n",
              "    'citation': 'Archives of Neuroscience 2 (1), 2015'},\n",
              "   'filled': False,\n",
              "   'author_pub_id': 'c75RJawAAAAJ:u5HHmVD_uO8C',\n",
              "   'num_citations': 10,\n",
              "   'citedby_url': 'https://scholar.google.com/scholar?oi=bibs&hl=en&cites=8711284716466912032',\n",
              "   'cites_id': ['8711284716466912032']},\n",
              "  {'container_type': 'Publication',\n",
              "   'source': <PublicationSource.AUTHOR_PUBLICATION_ENTRY: 'AUTHOR_PUBLICATION_ENTRY'>,\n",
              "   'bib': {'title': 'The effect of physical and virtual rotations of a 3D object on spatial perception',\n",
              "    'pub_year': '2013',\n",
              "    'citation': '2013 6th International IEEE/EMBS Conference on Neural Engineering (NER …, 2013'},\n",
              "   'filled': False,\n",
              "   'author_pub_id': 'c75RJawAAAAJ:YsMSGLbcyi4C',\n",
              "   'num_citations': 5,\n",
              "   'citedby_url': 'https://scholar.google.com/scholar?oi=bibs&hl=en&cites=9456677473525653433',\n",
              "   'cites_id': ['9456677473525653433']},\n",
              "  {'container_type': 'Publication',\n",
              "   'source': <PublicationSource.AUTHOR_PUBLICATION_ENTRY: 'AUTHOR_PUBLICATION_ENTRY'>,\n",
              "   'bib': {'title': \"Comparison of a new ad-hoc classification method with support vector machine and ensemble classifiers for the diagnosis of meniere's disease using evestg signals\",\n",
              "    'pub_year': '2016',\n",
              "    'citation': '2016 IEEE Canadian Conference on Electrical and Computer Engineering (CCECE …, 2016'},\n",
              "   'filled': False,\n",
              "   'author_pub_id': 'c75RJawAAAAJ:W7OEmFMy1HYC',\n",
              "   'num_citations': 4,\n",
              "   'citedby_url': 'https://scholar.google.com/scholar?oi=bibs&hl=en&cites=4494726671751931219',\n",
              "   'cites_id': ['4494726671751931219']},\n",
              "  {'container_type': 'Publication',\n",
              "   'source': <PublicationSource.AUTHOR_PUBLICATION_ENTRY: 'AUTHOR_PUBLICATION_ENTRY'>,\n",
              "   'bib': {'title': 'Repetitive transcranial magnetic stimulation (RTMS) as a treatment for post-concussion syndrome',\n",
              "    'pub_year': '2017',\n",
              "    'citation': 'CMBES Proceedings 40, 2017'},\n",
              "   'filled': False,\n",
              "   'author_pub_id': 'c75RJawAAAAJ:ufrVoPGSRksC',\n",
              "   'num_citations': 3,\n",
              "   'citedby_url': 'https://scholar.google.com/scholar?oi=bibs&hl=en&cites=6710239584341702368',\n",
              "   'cites_id': ['6710239584341702368']},\n",
              "  {'container_type': 'Publication',\n",
              "   'source': <PublicationSource.AUTHOR_PUBLICATION_ENTRY: 'AUTHOR_PUBLICATION_ENTRY'>,\n",
              "   'bib': {'title': 'Predicting Cognitive Status of Older Adults by Using Directional Accuracy in Explicit Timing Tasks',\n",
              "    'pub_year': '2019',\n",
              "    'citation': 'Journal of Medical and Biological Engineering 39, 418-423, 2019'},\n",
              "   'filled': False,\n",
              "   'author_pub_id': 'c75RJawAAAAJ:LkGwnXOMwfcC',\n",
              "   'num_citations': 2,\n",
              "   'citedby_url': 'https://scholar.google.com/scholar?oi=bibs&hl=en&cites=1527418032429172461',\n",
              "   'cites_id': ['1527418032429172461']},\n",
              "  {'container_type': 'Publication',\n",
              "   'source': <PublicationSource.AUTHOR_PUBLICATION_ENTRY: 'AUTHOR_PUBLICATION_ENTRY'>,\n",
              "   'bib': {'title': 'A new margin-based AdaBoost algorithm: Even more robust than RobustBoost to class-label noise',\n",
              "    'pub_year': '2016',\n",
              "    'citation': '2016 IEEE Canadian Conference on Electrical and Computer Engineering (CCECE …, 2016'},\n",
              "   'filled': False,\n",
              "   'author_pub_id': 'c75RJawAAAAJ:WF5omc3nYNoC',\n",
              "   'num_citations': 2,\n",
              "   'citedby_url': 'https://scholar.google.com/scholar?oi=bibs&hl=en&cites=3354448829969242150',\n",
              "   'cites_id': ['3354448829969242150']},\n",
              "  {'container_type': 'Publication',\n",
              "   'source': <PublicationSource.AUTHOR_PUBLICATION_ENTRY: 'AUTHOR_PUBLICATION_ENTRY'>,\n",
              "   'bib': {'title': 'Practice effect in spatial updating: a longitudinal study using virtual reality navigation',\n",
              "    'pub_year': '2018',\n",
              "    'citation': 'COGNITIVE PROCESSING 19, S49-S50, 2018'},\n",
              "   'filled': False,\n",
              "   'author_pub_id': 'c75RJawAAAAJ:roLk4NBRz8UC',\n",
              "   'num_citations': 1,\n",
              "   'citedby_url': 'https://scholar.google.com/scholar?oi=bibs&hl=en&cites=15106375606405527385',\n",
              "   'cites_id': ['15106375606405527385']},\n",
              "  {'container_type': 'Publication',\n",
              "   'source': <PublicationSource.AUTHOR_PUBLICATION_ENTRY: 'AUTHOR_PUBLICATION_ENTRY'>,\n",
              "   'bib': {'title': 'Design and Evaluation of a Virtual Reality-based Driving Task to Investigate Temporal Preparation',\n",
              "    'pub_year': '2023',\n",
              "    'citation': 'CMBES Proceedings 45, 2023'},\n",
              "   'filled': False,\n",
              "   'author_pub_id': 'c75RJawAAAAJ:3fE2CSJIrl8C',\n",
              "   'num_citations': 0},\n",
              "  {'container_type': 'Publication',\n",
              "   'source': <PublicationSource.AUTHOR_PUBLICATION_ENTRY: 'AUTHOR_PUBLICATION_ENTRY'>,\n",
              "   'bib': {'title': 'Comparisons of Target Localization Abilities during Physical and Virtual Rotating Scenes by Cognitively-Intact and Cognitively Impaired Older Adults',\n",
              "    'pub_year': '2019',\n",
              "    'citation': 'OBM Geriatrics 3 (2), 1-15, 2019'},\n",
              "   'filled': False,\n",
              "   'author_pub_id': 'c75RJawAAAAJ:8k81kl-MbHgC',\n",
              "   'num_citations': 0},\n",
              "  {'container_type': 'Publication',\n",
              "   'source': <PublicationSource.AUTHOR_PUBLICATION_ENTRY: 'AUTHOR_PUBLICATION_ENTRY'>,\n",
              "   'bib': {'title': 'Simultaneous Localization and Mapping (SLAM) for Route Reversal Learning',\n",
              "    'pub_year': '2018',\n",
              "    'citation': 'OBM Geriatrics 2 (3), 1-18, 2018'},\n",
              "   'filled': False,\n",
              "   'author_pub_id': 'c75RJawAAAAJ:MXK_kJrjxJIC',\n",
              "   'num_citations': 0},\n",
              "  {'container_type': 'Publication',\n",
              "   'source': <PublicationSource.AUTHOR_PUBLICATION_ENTRY: 'AUTHOR_PUBLICATION_ENTRY'>,\n",
              "   'bib': {'title': 'The effect of aging and cognitive decline on spatial and temporal cognition',\n",
              "    'pub_year': '2017',\n",
              "    'citation': ''},\n",
              "   'filled': False,\n",
              "   'author_pub_id': 'c75RJawAAAAJ:0EnyYjriUFMC',\n",
              "   'num_citations': 0},\n",
              "  {'container_type': 'Publication',\n",
              "   'source': <PublicationSource.AUTHOR_PUBLICATION_ENTRY: 'AUTHOR_PUBLICATION_ENTRY'>,\n",
              "   'bib': {'title': 'Using Simultaneous Localization and Mapping for Investigating the Effect of Texture Distortion in Knowledge Transfers between Virtual and Real Environments',\n",
              "    'pub_year': '2015',\n",
              "    'citation': '1st University of Manitoba Biomedical Engineering Symposium, Winnipeg, Canada, 2015'},\n",
              "   'filled': False,\n",
              "   'author_pub_id': 'c75RJawAAAAJ:zYLM7Y9cAGgC',\n",
              "   'num_citations': 0},\n",
              "  {'container_type': 'Publication',\n",
              "   'source': <PublicationSource.AUTHOR_PUBLICATION_ENTRY: 'AUTHOR_PUBLICATION_ENTRY'>,\n",
              "   'bib': {'title': 'Development of a Software Tool for Quick Re-entrainment of the Circadian Pacemaker',\n",
              "    'pub_year': '2015',\n",
              "    'citation': 'World Congress on Medical Physics and Biomedical Engineering (WC 2015 …, 2015'},\n",
              "   'filled': False,\n",
              "   'author_pub_id': 'c75RJawAAAAJ:UeHWp8X0CEIC',\n",
              "   'num_citations': 0},\n",
              "  {'container_type': 'Publication',\n",
              "   'source': <PublicationSource.AUTHOR_PUBLICATION_ENTRY: 'AUTHOR_PUBLICATION_ENTRY'>,\n",
              "   'bib': {'title': 'An Optimal Algorithm for Calculating Nested Queries in Fuzzy Databases',\n",
              "    'pub_year': '2007',\n",
              "    'citation': '12th Computer Society of Iran Computer Conference (CSICC 2007), Tehran , Iran, 2007'},\n",
              "   'filled': False,\n",
              "   'author_pub_id': 'c75RJawAAAAJ:2osOgNQ5qMEC',\n",
              "   'num_citations': 0},\n",
              "  {'container_type': 'Publication',\n",
              "   'source': <PublicationSource.AUTHOR_PUBLICATION_ENTRY: 'AUTHOR_PUBLICATION_ENTRY'>,\n",
              "   'bib': {'title': 'A Review of Query Processing in Fuzzy Data Bases and its associated Problems',\n",
              "    'pub_year': '2006',\n",
              "    'citation': '4th international Conference of Computer Engineering, University of Science …, 2006'},\n",
              "   'filled': False,\n",
              "   'author_pub_id': 'c75RJawAAAAJ:9yKSN-GCB0IC',\n",
              "   'num_citations': 0},\n",
              "  {'container_type': 'Publication',\n",
              "   'source': <PublicationSource.AUTHOR_PUBLICATION_ENTRY: 'AUTHOR_PUBLICATION_ENTRY'>,\n",
              "   'bib': {'title': 'A new Margin-based AdaBoost Algorithm', 'citation': ''},\n",
              "   'filled': False,\n",
              "   'author_pub_id': 'c75RJawAAAAJ:hqOjcs7Dif8C',\n",
              "   'num_citations': 0}],\n",
              " 'public_access': {'available': 5, 'not_available': 1}}"
            ]
          },
          "metadata": {},
          "execution_count": 8
        }
      ]
    },
    {
      "cell_type": "markdown",
      "metadata": {
        "id": "_00dWAjgJLxc"
      },
      "source": [
        "For each entry of coauthors , we have 'affiliation': 'Professor of Biomedical Engineering, University of Manitoba', 'container_type': 'Author',\n",
        "'filled': set(),'name': 'Zahra Moussavi','scholar_id': 'xWmh4wkAAAAJ',\n",
        "  'source': <AuthorSource.CO_AUTHORS_LIST: 3>\n"
      ]
    },
    {
      "cell_type": "code",
      "source": [],
      "metadata": {
        "id": "deOcHSfHfe9a"
      },
      "execution_count": null,
      "outputs": []
    },
    {
      "cell_type": "code",
      "metadata": {
        "id": "_H8-QyzQICUf"
      },
      "source": [
        "list_of_coauthoes = [item['name'] for item in profile['coauthors']]"
      ],
      "execution_count": 9,
      "outputs": []
    },
    {
      "cell_type": "code",
      "metadata": {
        "colab": {
          "base_uri": "https://localhost:8080/"
        },
        "id": "5IB72SHMJ2xY",
        "outputId": "823354b3-04eb-4b0c-d279-5b8de5a61455"
      },
      "source": [
        "list_of_coauthoes"
      ],
      "execution_count": 10,
      "outputs": [
        {
          "output_type": "execute_result",
          "data": {
            "text/plain": [
              "['Zahra Moussavi',\n",
              " 'Debbie Kelly',\n",
              " 'Ahmad Byagowi',\n",
              " 'Xikui Wang',\n",
              " 'Abdelbaset (Abed) Suleiman , PhD',\n",
              " 'Behzad Mansouri MD PhD FRCPC',\n",
              " 'Professor Paul Fitzgerald',\n",
              " 'Jerome Maller',\n",
              " 'Caroline Gurvich',\n",
              " 'Jayashri Kulkarni']"
            ]
          },
          "metadata": {},
          "execution_count": 10
        }
      ]
    },
    {
      "cell_type": "code",
      "metadata": {
        "colab": {
          "base_uri": "https://localhost:8080/"
        },
        "id": "Vm5RgfpVDfvn",
        "outputId": "3cde835d-2344-4638-b269-c3f1c08bf484"
      },
      "source": [
        "# Print the titles of the author's publications\n",
        "[pub['bib']['title'] for pub in profile['publications']]"
      ],
      "execution_count": 11,
      "outputs": [
        {
          "output_type": "execute_result",
          "data": {
            "text/plain": [
              "['Orientation in virtual reality does not fully measure up to the real-world',\n",
              " 'A pilot randomised double-blind study of the tolerability and efficacy of repetitive transcranial magnetic stimulation on persistent post-concussion syndrome',\n",
              " 'Introducing a new age-and-cognition-sensitive measurement for assessing spatial orientation using a landmark-less virtual reality navigational task',\n",
              " 'Tendency to overestimate the explicit time interval in relation to aging and cognitive decline',\n",
              " 'Separating mental disorders using vestibular field potentials',\n",
              " 'The effect of physical and virtual rotations of a 3D object on spatial perception',\n",
              " \"Comparison of a new ad-hoc classification method with support vector machine and ensemble classifiers for the diagnosis of meniere's disease using evestg signals\",\n",
              " 'Repetitive transcranial magnetic stimulation (RTMS) as a treatment for post-concussion syndrome',\n",
              " 'Predicting Cognitive Status of Older Adults by Using Directional Accuracy in Explicit Timing Tasks',\n",
              " 'A new margin-based AdaBoost algorithm: Even more robust than RobustBoost to class-label noise',\n",
              " 'Practice effect in spatial updating: a longitudinal study using virtual reality navigation',\n",
              " 'Design and Evaluation of a Virtual Reality-based Driving Task to Investigate Temporal Preparation',\n",
              " 'Comparisons of Target Localization Abilities during Physical and Virtual Rotating Scenes by Cognitively-Intact and Cognitively Impaired Older Adults',\n",
              " 'Simultaneous Localization and Mapping (SLAM) for Route Reversal Learning',\n",
              " 'The effect of aging and cognitive decline on spatial and temporal cognition',\n",
              " 'Using Simultaneous Localization and Mapping for Investigating the Effect of Texture Distortion in Knowledge Transfers between Virtual and Real Environments',\n",
              " 'Development of a Software Tool for Quick Re-entrainment of the Circadian Pacemaker',\n",
              " 'An Optimal Algorithm for Calculating Nested Queries in Fuzzy Databases',\n",
              " 'A Review of Query Processing in Fuzzy Data Bases and its associated Problems',\n",
              " 'A new Margin-based AdaBoost Algorithm']"
            ]
          },
          "metadata": {},
          "execution_count": 11
        }
      ]
    },
    {
      "cell_type": "code",
      "metadata": {
        "id": "AiMcgYA-ld2r"
      },
      "source": [
        "list_of_coathors = []"
      ],
      "execution_count": 12,
      "outputs": []
    },
    {
      "cell_type": "code",
      "metadata": {
        "id": "zsh3ZuFaDyBg"
      },
      "source": [
        "# Take a closer look at the first publication\n",
        "for pub in profile['publications']:\n",
        "  filled_pub = scholarly.fill(pub)\n",
        "  list_of_coathors.append(filled_pub['bib']['author'].split(' and '))"
      ],
      "execution_count": 13,
      "outputs": []
    },
    {
      "cell_type": "code",
      "metadata": {
        "id": "Ds5--0RJnYS0"
      },
      "source": [
        "coathors_list_flattened = list(flatten(list_of_coathors))"
      ],
      "execution_count": 14,
      "outputs": []
    },
    {
      "cell_type": "code",
      "metadata": {
        "colab": {
          "base_uri": "https://localhost:8080/"
        },
        "id": "Jq3i7v0wtw4A",
        "outputId": "c2cb0093-19ff-4d52-a033-13f4eb9390d5"
      },
      "source": [
        "coathors_list_flattened"
      ],
      "execution_count": 15,
      "outputs": [
        {
          "output_type": "execute_result",
          "data": {
            "text/plain": [
              "['Kazushige Kimura',\n",
              " 'James F Reichert',\n",
              " 'Ashley Olson',\n",
              " 'Omid Ranjbar Pouya',\n",
              " 'Xikui Wang',\n",
              " 'Zahra Moussavi',\n",
              " 'Debbie M Kelly',\n",
              " 'Zahra Moussavi',\n",
              " 'Abdelbaset Suleiman',\n",
              " 'Grant Rutherford',\n",
              " 'Omid Ranjbar Pouya',\n",
              " 'Zeinab Dastgheib',\n",
              " 'Weijia Zhang',\n",
              " 'Jennifer Salter',\n",
              " 'Xikui Wang',\n",
              " 'Behzad Mansouri',\n",
              " 'Brian Lithgow',\n",
              " 'Omid Ranjbar Pouya',\n",
              " 'Ahmad Byagowi',\n",
              " 'Debbie M Kelly',\n",
              " 'Zahra Moussavi',\n",
              " 'O Ranjbar Pouya',\n",
              " 'Debbie M Kelly',\n",
              " 'Zahra Moussavi',\n",
              " 'Jerome Joseph Maller',\n",
              " 'Brian Lithgow',\n",
              " 'Caroline Gurvich',\n",
              " 'Saman Haghgooie',\n",
              " 'Omid Ranjbar Pouya',\n",
              " 'Paul Bernard Fitzgerald',\n",
              " 'Jayashri Kulkarni',\n",
              " 'O Ranjbar Pouya',\n",
              " 'A Byagowi',\n",
              " 'D Kelly',\n",
              " 'Z Moussavi',\n",
              " 'Zeinab Alsadat Dastgheib',\n",
              " 'O Ranjbar Pouya',\n",
              " 'Brian Lithgow',\n",
              " 'Zahra Moussavi',\n",
              " 'Grant Rutherford',\n",
              " 'Brian Lithgow',\n",
              " 'Behzad Mansouri',\n",
              " 'Abed Sulieman',\n",
              " 'Omid Ranjbar Pouya',\n",
              " 'Zeinab Dastgheib',\n",
              " 'Weijia Zhang',\n",
              " 'Jennifer Salter',\n",
              " 'Zahra Moussavi',\n",
              " 'Omid Ranjbar Pouya',\n",
              " 'Debbie M Kelly',\n",
              " 'Zahra Moussavi',\n",
              " 'Omid Ranjbar Pouya',\n",
              " 'Omid Ranjbar Pouya',\n",
              " 'Zahra Moussavi',\n",
              " 'Omid Ranjbar Pouya',\n",
              " 'Zahra Moussavi',\n",
              " 'Omid Ranjbar Pouya',\n",
              " 'Ahmad Byagowi',\n",
              " 'Debbie Kelly',\n",
              " 'Zahra Moussavi',\n",
              " 'Kazushige Kimura',\n",
              " 'James Reichert',\n",
              " 'Omid Pouya',\n",
              " 'Ahmad Byagowi',\n",
              " 'Xikui Wang',\n",
              " 'Debbie Kelly',\n",
              " 'Zahra Moussavi',\n",
              " 'Omid Ranjbar Pouya',\n",
              " 'Kazu Kimura',\n",
              " 'Omid Ranjbar Pouya',\n",
              " 'Ahmad Byagowi',\n",
              " 'Debbie Kelly',\n",
              " 'Zahra Moussavi',\n",
              " 'Omid Ranjbar Pooya',\n",
              " 'Ehsan Shams',\n",
              " 'Zahra Moussavi',\n",
              " 'Omid Ranjbar Pouya',\n",
              " 'Ali Mollahosseini',\n",
              " 'Naser Mozayani',\n",
              " 'Omid Ranjbar Pouya',\n",
              " 'Ali Mollahosseini',\n",
              " 'Omid Ranjbar Pouya']"
            ]
          },
          "metadata": {},
          "execution_count": 15
        }
      ]
    },
    {
      "cell_type": "code",
      "metadata": {
        "colab": {
          "base_uri": "https://localhost:8080/",
          "height": 36
        },
        "id": "aI7eduNep4vB",
        "outputId": "d54beb48-87b5-4948-c78f-981f7b5aa096"
      },
      "source": [
        "'Zeinab A Dastgheib'.rsplit(' ', 1)[-1]"
      ],
      "execution_count": 16,
      "outputs": [
        {
          "output_type": "execute_result",
          "data": {
            "text/plain": [
              "'Dastgheib'"
            ],
            "application/vnd.google.colaboratory.intrinsic+json": {
              "type": "string"
            }
          },
          "metadata": {},
          "execution_count": 16
        }
      ]
    },
    {
      "cell_type": "code",
      "metadata": {
        "id": "87flIbeTpJXd"
      },
      "source": [
        "coathors_dict= dict()\n",
        "for author in coathors_list_flattened:\n",
        "  if not (author.startswith('Omid') or author.endswith('Ranjbar Pouya')):\n",
        "    author_family_name = author.rsplit(' ', 1)[-1]\n",
        "    coathors_dict[author_family_name] = coathors_dict.get(author_family_name, 1) + 1"
      ],
      "execution_count": 17,
      "outputs": []
    },
    {
      "cell_type": "code",
      "metadata": {
        "colab": {
          "base_uri": "https://localhost:8080/"
        },
        "id": "UFcqiO6Yqls8",
        "outputId": "66324825-20c2-4bc6-c22c-9c6f09e98e77"
      },
      "source": [
        "coathors_dict"
      ],
      "execution_count": 18,
      "outputs": [
        {
          "output_type": "execute_result",
          "data": {
            "text/plain": [
              "{'Kimura': 4,\n",
              " 'Reichert': 3,\n",
              " 'Olson': 2,\n",
              " 'Wang': 4,\n",
              " 'Moussavi': 15,\n",
              " 'Kelly': 9,\n",
              " 'Suleiman': 2,\n",
              " 'Rutherford': 3,\n",
              " 'Dastgheib': 4,\n",
              " 'Zhang': 3,\n",
              " 'Salter': 3,\n",
              " 'Mansouri': 3,\n",
              " 'Lithgow': 5,\n",
              " 'Byagowi': 6,\n",
              " 'Maller': 2,\n",
              " 'Gurvich': 2,\n",
              " 'Haghgooie': 2,\n",
              " 'Fitzgerald': 2,\n",
              " 'Kulkarni': 2,\n",
              " 'Sulieman': 2,\n",
              " 'Shams': 2,\n",
              " 'Mollahosseini': 3,\n",
              " 'Mozayani': 2}"
            ]
          },
          "metadata": {},
          "execution_count": 18
        }
      ]
    },
    {
      "cell_type": "code",
      "metadata": {
        "colab": {
          "base_uri": "https://localhost:8080/"
        },
        "id": "4vCNosK70w-y",
        "outputId": "ee3df56e-0483-45fa-aab6-bf0cc83467b9"
      },
      "source": [
        "profile['publications'][0]"
      ],
      "execution_count": 19,
      "outputs": [
        {
          "output_type": "execute_result",
          "data": {
            "text/plain": [
              "{'container_type': 'Publication',\n",
              " 'source': <PublicationSource.AUTHOR_PUBLICATION_ENTRY: 'AUTHOR_PUBLICATION_ENTRY'>,\n",
              " 'bib': {'title': 'Orientation in virtual reality does not fully measure up to the real-world',\n",
              "  'pub_year': 2017,\n",
              "  'citation': 'Scientific reports 7 (1), 18109, 2017',\n",
              "  'author': 'Kazushige Kimura and James F Reichert and Ashley Olson and Omid Ranjbar Pouya and Xikui Wang and Zahra Moussavi and Debbie M Kelly',\n",
              "  'journal': 'Scientific reports',\n",
              "  'volume': '7',\n",
              "  'number': '1',\n",
              "  'pages': '18109',\n",
              "  'publisher': 'Nature Publishing Group UK'},\n",
              " 'filled': True,\n",
              " 'author_pub_id': 'c75RJawAAAAJ:_FxGoFyzp5QC',\n",
              " 'num_citations': 54,\n",
              " 'citedby_url': '/scholar?hl=en&cites=7655471678823541463',\n",
              " 'cites_id': ['7655471678823541463'],\n",
              " 'url_related_articles': '/scholar?oi=bibs&hl=en&q=related:1ypXdO6yPWoJ:scholar.google.com/',\n",
              " 'cites_per_year': {2018: 2, 2019: 7, 2020: 12, 2021: 13, 2022: 12, 2023: 8}}"
            ]
          },
          "metadata": {},
          "execution_count": 19
        }
      ]
    },
    {
      "cell_type": "code",
      "metadata": {
        "id": "G5DKGdrK0flH"
      },
      "source": [
        "# Take a closer look at the first publication\n",
        "filled_pub_list = []\n",
        "for pub in profile['publications']:\n",
        "  filled_pub_list.append(scholarly.fill(pub))"
      ],
      "execution_count": 20,
      "outputs": []
    },
    {
      "cell_type": "code",
      "metadata": {
        "id": "IedClazbho0a"
      },
      "source": [
        "#[citation['bib'] for citation in scholarly.citedby(first_pub)]"
      ],
      "execution_count": 21,
      "outputs": []
    },
    {
      "cell_type": "code",
      "metadata": {
        "colab": {
          "base_uri": "https://localhost:8080/"
        },
        "id": "b7jRIuNiebzO",
        "outputId": "6f8903a3-03f5-4c70-b7f0-00791e15b22e"
      },
      "source": [
        "len(filled_pub_list)"
      ],
      "execution_count": 22,
      "outputs": [
        {
          "output_type": "execute_result",
          "data": {
            "text/plain": [
              "20"
            ]
          },
          "metadata": {},
          "execution_count": 22
        }
      ]
    },
    {
      "cell_type": "code",
      "metadata": {
        "id": "JVLoWTzSZ2CY"
      },
      "source": [
        "scholarly.citedby(filled_pub_list[0])"
      ],
      "execution_count": null,
      "outputs": []
    },
    {
      "cell_type": "code",
      "metadata": {
        "id": "VHPAarfNETPQ"
      },
      "source": [
        "# Which papers cited that publication?\n",
        "citing_authors_list = [citation['bib']['author'] for citation in scholarly.citedby(first_pub) if time.sleep(1) is None]"
      ],
      "execution_count": null,
      "outputs": []
    },
    {
      "cell_type": "code",
      "metadata": {
        "id": "IdK8SvDVjOzD"
      },
      "source": [
        "citing_authors_list"
      ],
      "execution_count": null,
      "outputs": []
    },
    {
      "cell_type": "code",
      "metadata": {
        "id": "m7ruo3Sr5713"
      },
      "source": [
        "count_citations(citing_authors_list)"
      ],
      "execution_count": null,
      "outputs": []
    },
    {
      "cell_type": "code",
      "metadata": {
        "id": "gBAHne-4i-mE"
      },
      "source": [
        "num_independent_citations"
      ],
      "execution_count": null,
      "outputs": []
    },
    {
      "cell_type": "code",
      "metadata": {
        "id": "m4yQPRZmG3g3"
      },
      "source": [
        "num_dependent_citations"
      ],
      "execution_count": null,
      "outputs": []
    },
    {
      "cell_type": "code",
      "metadata": {
        "id": "NMPhChcAG6bG"
      },
      "source": [],
      "execution_count": null,
      "outputs": []
    }
  ]
}